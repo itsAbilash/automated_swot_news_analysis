{
 "cells": [
  {
   "cell_type": "code",
   "execution_count": 9,
   "id": "51d299f6-341d-485a-8a3b-c845843e81c0",
   "metadata": {},
   "outputs": [],
   "source": [
    "import sqlite3\n",
    "import pandas as pd"
   ]
  },
  {
   "cell_type": "code",
   "execution_count": 2,
   "id": "0770e20d-17e4-4d42-97e3-93ac7407ac6e",
   "metadata": {},
   "outputs": [],
   "source": [
    "# File path to the .db file\n",
    "db_path = \"all-the-news.db\""
   ]
  },
  {
   "cell_type": "code",
   "execution_count": 3,
   "id": "266e91bd-7b89-47e4-86c3-d75156ad9ce5",
   "metadata": {},
   "outputs": [],
   "source": [
    "# Connect to the database\n",
    "conn = sqlite3.connect(db_path)"
   ]
  },
  {
   "cell_type": "code",
   "execution_count": 4,
   "id": "fca7104c-5bb3-409a-874c-55d493cf5716",
   "metadata": {},
   "outputs": [],
   "source": [
    "# Query to retrieve all table names\n",
    "query = \"SELECT name FROM sqlite_master WHERE type='table';\"\n",
    "tables = conn.execute(query).fetchall()"
   ]
  },
  {
   "cell_type": "code",
   "execution_count": 5,
   "id": "797d4563-8582-4ec8-848c-11a7cb68e832",
   "metadata": {},
   "outputs": [
    {
     "name": "stdout",
     "output_type": "stream",
     "text": [
      "Tables in the database:\n",
      "longform\n"
     ]
    }
   ],
   "source": [
    "# Print the list of tables\n",
    "print(\"Tables in the database:\")\n",
    "for table in tables:\n",
    "    print(table[0])"
   ]
  },
  {
   "cell_type": "code",
   "execution_count": 6,
   "id": "97a8880f-86e7-4fb0-a0ac-ba76e3963904",
   "metadata": {},
   "outputs": [],
   "source": [
    "# Query to inspect the schema of the table\n",
    "table_name = \"longform\"\n",
    "query = f\"PRAGMA table_info({table_name});\"\n",
    "columns = conn.execute(query).fetchall()"
   ]
  },
  {
   "cell_type": "code",
   "execution_count": 7,
   "id": "8af19d14-ced7-4812-bb37-c773e7c56add",
   "metadata": {},
   "outputs": [
    {
     "name": "stdout",
     "output_type": "stream",
     "text": [
      "Columns in table 'longform':\n",
      "Column: id, Type: \n",
      "Column: title, Type: TEXT\n",
      "Column: author, Type: TEXT\n",
      "Column: date, Type: TEXT\n",
      "Column: content, Type: TEXT\n",
      "Column: year, Type: INTEGER\n",
      "Column: month, Type: INTEGER\n",
      "Column: publication, Type: TEXT\n",
      "Column: category, Type: TEXT\n",
      "Column: digital, Type: INTEGER\n",
      "Column: section, Type: TEXT\n",
      "Column: url, Type: TEXT\n"
     ]
    }
   ],
   "source": [
    "# Print the column names and types\n",
    "print(f\"Columns in table '{table_name}':\")\n",
    "for column in columns:\n",
    "    print(f\"Column: {column[1]}, Type: {column[2]}\")"
   ]
  },
  {
   "cell_type": "code",
   "execution_count": 10,
   "id": "b642cb8e-3dc0-417f-a79f-4911dc78cf8b",
   "metadata": {},
   "outputs": [],
   "source": [
    "# Query the entire table\n",
    "query = \"SELECT * FROM longform;\"\n",
    "data = pd.read_sql_query(query, conn)"
   ]
  },
  {
   "cell_type": "code",
   "execution_count": 11,
   "id": "65d640b4-6df8-41eb-a36f-4d7de6bdba30",
   "metadata": {},
   "outputs": [],
   "source": [
    "csv_path = \"all-the-news.csv\""
   ]
  },
  {
   "cell_type": "code",
   "execution_count": 12,
   "id": "a043530c-a138-4aff-8e7e-fd33ac0dafde",
   "metadata": {},
   "outputs": [],
   "source": [
    "# Export to CSV\n",
    "data.to_csv(csv_path, index=False)"
   ]
  },
  {
   "cell_type": "code",
   "execution_count": 13,
   "id": "74435b67-38bb-49b7-817d-9ed87a6bbb08",
   "metadata": {},
   "outputs": [],
   "source": [
    "# Close the connection\n",
    "conn.close()"
   ]
  },
  {
   "cell_type": "code",
   "execution_count": 15,
   "id": "190e9950-7930-4ac3-b432-e48567d8d558",
   "metadata": {},
   "outputs": [
    {
     "name": "stdout",
     "output_type": "stream",
     "text": [
      "Using device: cuda\n"
     ]
    }
   ],
   "source": [
    "import torch\n",
    "device = torch.device(\"cuda\" if torch.cuda.is_available() else \"cpu\")\n",
    "print(f\"Using device: {device}\")"
   ]
  },
  {
   "cell_type": "markdown",
   "id": "1f937a28-159a-467c-9ef0-6bf7d61ce736",
   "metadata": {},
   "source": [
    "Data Cleaning and Preprocessing"
   ]
  },
  {
   "cell_type": "code",
   "execution_count": 14,
   "id": "926a54f7-035a-4870-ac13-c3ccc4aa2650",
   "metadata": {},
   "outputs": [
    {
     "name": "stderr",
     "output_type": "stream",
     "text": [
      "C:\\Users\\Sruthi Srikanth\\AppData\\Local\\Temp\\ipykernel_31104\\7564643.py:1: DtypeWarning: Columns (10,11) have mixed types. Specify dtype option on import or set low_memory=False.\n",
      "  df = pd.read_csv(\"all-the-news.csv\")\n"
     ]
    }
   ],
   "source": [
    "df = pd.read_csv(\"all-the-news.csv\")"
   ]
  },
  {
   "cell_type": "code",
   "execution_count": 16,
   "id": "9a365429-62f6-4977-b4e0-fc634d903a74",
   "metadata": {},
   "outputs": [
    {
     "data": {
      "text/html": [
       "<div>\n",
       "<style scoped>\n",
       "    .dataframe tbody tr th:only-of-type {\n",
       "        vertical-align: middle;\n",
       "    }\n",
       "\n",
       "    .dataframe tbody tr th {\n",
       "        vertical-align: top;\n",
       "    }\n",
       "\n",
       "    .dataframe thead th {\n",
       "        text-align: right;\n",
       "    }\n",
       "</style>\n",
       "<table border=\"1\" class=\"dataframe\">\n",
       "  <thead>\n",
       "    <tr style=\"text-align: right;\">\n",
       "      <th></th>\n",
       "      <th>id</th>\n",
       "      <th>title</th>\n",
       "      <th>author</th>\n",
       "      <th>date</th>\n",
       "      <th>content</th>\n",
       "      <th>year</th>\n",
       "      <th>month</th>\n",
       "      <th>publication</th>\n",
       "      <th>category</th>\n",
       "      <th>digital</th>\n",
       "      <th>section</th>\n",
       "      <th>url</th>\n",
       "    </tr>\n",
       "  </thead>\n",
       "  <tbody>\n",
       "    <tr>\n",
       "      <th>0</th>\n",
       "      <td>1</td>\n",
       "      <td>Agent Cooper in Twin Peaks is the audience: on...</td>\n",
       "      <td>\\nTasha Robinson\\n</td>\n",
       "      <td>2017-05-31</td>\n",
       "      <td>And never more so than in Showtime’s new...</td>\n",
       "      <td>2017.0</td>\n",
       "      <td>5.0</td>\n",
       "      <td>Verge</td>\n",
       "      <td>Longform</td>\n",
       "      <td>1.0</td>\n",
       "      <td>NaN</td>\n",
       "      <td>NaN</td>\n",
       "    </tr>\n",
       "    <tr>\n",
       "      <th>1</th>\n",
       "      <td>2</td>\n",
       "      <td>AI, the humanity!</td>\n",
       "      <td>\\nSam Byford\\n</td>\n",
       "      <td>2017-05-30</td>\n",
       "      <td>AlphaGo’s victory isn’t a defeat for hum...</td>\n",
       "      <td>2017.0</td>\n",
       "      <td>5.0</td>\n",
       "      <td>Verge</td>\n",
       "      <td>Longform</td>\n",
       "      <td>1.0</td>\n",
       "      <td>NaN</td>\n",
       "      <td>NaN</td>\n",
       "    </tr>\n",
       "    <tr>\n",
       "      <th>2</th>\n",
       "      <td>3</td>\n",
       "      <td>The Viral Machine</td>\n",
       "      <td>\\nKaitlyn Tiffany\\n</td>\n",
       "      <td>2017-05-25</td>\n",
       "      <td>Super Deluxe built a weird internet empi...</td>\n",
       "      <td>2017.0</td>\n",
       "      <td>5.0</td>\n",
       "      <td>Verge</td>\n",
       "      <td>Longform</td>\n",
       "      <td>1.0</td>\n",
       "      <td>NaN</td>\n",
       "      <td>NaN</td>\n",
       "    </tr>\n",
       "    <tr>\n",
       "      <th>3</th>\n",
       "      <td>4</td>\n",
       "      <td>How Anker is beating Apple and Samsung at thei...</td>\n",
       "      <td>\\nNick Statt\\n</td>\n",
       "      <td>2017-05-22</td>\n",
       "      <td>Steven Yang quit his job at Google in th...</td>\n",
       "      <td>2017.0</td>\n",
       "      <td>5.0</td>\n",
       "      <td>Verge</td>\n",
       "      <td>Longform</td>\n",
       "      <td>1.0</td>\n",
       "      <td>NaN</td>\n",
       "      <td>NaN</td>\n",
       "    </tr>\n",
       "    <tr>\n",
       "      <th>4</th>\n",
       "      <td>5</td>\n",
       "      <td>Tour Black Panther’s reimagined homeland with ...</td>\n",
       "      <td>\\nKwame Opam\\n</td>\n",
       "      <td>2017-05-15</td>\n",
       "      <td>Ahead of Black Panther’s 2018 theatrical...</td>\n",
       "      <td>2017.0</td>\n",
       "      <td>5.0</td>\n",
       "      <td>Verge</td>\n",
       "      <td>Longform</td>\n",
       "      <td>1.0</td>\n",
       "      <td>NaN</td>\n",
       "      <td>NaN</td>\n",
       "    </tr>\n",
       "  </tbody>\n",
       "</table>\n",
       "</div>"
      ],
      "text/plain": [
       "   id                                              title               author  \\\n",
       "0   1  Agent Cooper in Twin Peaks is the audience: on...   \\nTasha Robinson\\n   \n",
       "1   2                                  AI, the humanity!       \\nSam Byford\\n   \n",
       "2   3                                  The Viral Machine  \\nKaitlyn Tiffany\\n   \n",
       "3   4  How Anker is beating Apple and Samsung at thei...       \\nNick Statt\\n   \n",
       "4   5  Tour Black Panther’s reimagined homeland with ...       \\nKwame Opam\\n   \n",
       "\n",
       "         date                                            content    year  \\\n",
       "0  2017-05-31        And never more so than in Showtime’s new...  2017.0   \n",
       "1  2017-05-30        AlphaGo’s victory isn’t a defeat for hum...  2017.0   \n",
       "2  2017-05-25        Super Deluxe built a weird internet empi...  2017.0   \n",
       "3  2017-05-22        Steven Yang quit his job at Google in th...  2017.0   \n",
       "4  2017-05-15        Ahead of Black Panther’s 2018 theatrical...  2017.0   \n",
       "\n",
       "   month publication  category  digital section  url  \n",
       "0    5.0       Verge  Longform      1.0     NaN  NaN  \n",
       "1    5.0       Verge  Longform      1.0     NaN  NaN  \n",
       "2    5.0       Verge  Longform      1.0     NaN  NaN  \n",
       "3    5.0       Verge  Longform      1.0     NaN  NaN  \n",
       "4    5.0       Verge  Longform      1.0     NaN  NaN  "
      ]
     },
     "execution_count": 16,
     "metadata": {},
     "output_type": "execute_result"
    }
   ],
   "source": [
    "df.head()"
   ]
  },
  {
   "cell_type": "code",
   "execution_count": 20,
   "id": "5201d64a-30ec-41a8-b200-61738ba3eede",
   "metadata": {},
   "outputs": [],
   "source": [
    "df = df[['date', 'title', 'content', 'publication']]"
   ]
  },
  {
   "cell_type": "code",
   "execution_count": 21,
   "id": "917118b6-6aa2-4fc3-b4bf-6f3b83d609d1",
   "metadata": {},
   "outputs": [],
   "source": [
    "df = df.drop_duplicates()"
   ]
  },
  {
   "cell_type": "code",
   "execution_count": 22,
   "id": "089865cf-bf6f-465c-8b9e-4cc04c64ddd1",
   "metadata": {},
   "outputs": [],
   "source": [
    "df = df.dropna(subset=['title', 'content'])"
   ]
  },
  {
   "cell_type": "code",
   "execution_count": 24,
   "id": "7e8c919e-3a74-440a-91dc-f4199fbe8ae6",
   "metadata": {},
   "outputs": [],
   "source": [
    "df['date'] = pd.to_datetime(df['date'], errors='coerce')  # Convert 'date' with error handling\n",
    "df['title'] = df['title'].astype('string')\n",
    "df['content'] = df['content'].astype('string')\n",
    "df['publication'] = df['publication'].astype('string')"
   ]
  },
  {
   "cell_type": "code",
   "execution_count": 25,
   "id": "33afb35b-f87f-489a-ba7d-d0ca5d0897f3",
   "metadata": {},
   "outputs": [],
   "source": [
    "df = df.dropna(subset=['date'])"
   ]
  },
  {
   "cell_type": "code",
   "execution_count": 30,
   "id": "e7628c28-f183-4aca-81f0-0b15cc2712cd",
   "metadata": {},
   "outputs": [],
   "source": [
    "import re\n",
    "\n",
    "def clean_text(text):\n",
    "    # Remove leading/trailing whitespace\n",
    "    text = text.strip()\n",
    "    # Remove extra spaces between words\n",
    "    text = ' '.join(text.split())\n",
    "    # Remove line breaks\n",
    "    text = text.replace(\"\\n\", \" \").replace(\"\\r\", \"\")\n",
    "    # Remove punctuation using regex\n",
    "    text = re.sub(r\"[^\\w\\s.!?]\", \"\", text)  # Retains ., !, ?\n",
    "    return text"
   ]
  },
  {
   "cell_type": "code",
   "execution_count": 31,
   "id": "1e327969-5a9a-4040-910d-be4164bfda33",
   "metadata": {},
   "outputs": [
    {
     "name": "stderr",
     "output_type": "stream",
     "text": [
      "C:\\Users\\Sruthi Srikanth\\AppData\\Local\\Temp\\ipykernel_31104\\3178013035.py:1: SettingWithCopyWarning: \n",
      "A value is trying to be set on a copy of a slice from a DataFrame.\n",
      "Try using .loc[row_indexer,col_indexer] = value instead\n",
      "\n",
      "See the caveats in the documentation: https://pandas.pydata.org/pandas-docs/stable/user_guide/indexing.html#returning-a-view-versus-a-copy\n",
      "  df['title'] = df['title'].apply(clean_text)\n",
      "C:\\Users\\Sruthi Srikanth\\AppData\\Local\\Temp\\ipykernel_31104\\3178013035.py:2: SettingWithCopyWarning: \n",
      "A value is trying to be set on a copy of a slice from a DataFrame.\n",
      "Try using .loc[row_indexer,col_indexer] = value instead\n",
      "\n",
      "See the caveats in the documentation: https://pandas.pydata.org/pandas-docs/stable/user_guide/indexing.html#returning-a-view-versus-a-copy\n",
      "  df['content'] = df['content'].apply(clean_text)\n"
     ]
    }
   ],
   "source": [
    "df['title'] = df['title'].apply(clean_text)\n",
    "df['content'] = df['content'].apply(clean_text)"
   ]
  },
  {
   "cell_type": "code",
   "execution_count": 29,
   "id": "c68f2992-2ddf-4466-8083-ff1aba92fc6d",
   "metadata": {},
   "outputs": [
    {
     "name": "stdout",
     "output_type": "stream",
     "text": [
      "<class 'pandas.core.frame.DataFrame'>\n",
      "Index: 179309 entries, 0 to 204132\n",
      "Data columns (total 4 columns):\n",
      " #   Column       Non-Null Count   Dtype         \n",
      "---  ------       --------------   -----         \n",
      " 0   date         179309 non-null  datetime64[ns]\n",
      " 1   title        179309 non-null  object        \n",
      " 2   content      179309 non-null  object        \n",
      " 3   publication  179309 non-null  string        \n",
      "dtypes: datetime64[ns](1), object(2), string(1)\n",
      "memory usage: 6.8+ MB\n",
      "None\n",
      "        date                                              title  \\\n",
      "0 2017-05-31  Agent Cooper in Twin Peaks is the audience onc...   \n",
      "1 2017-05-30                                    AI the humanity   \n",
      "\n",
      "                                             content publication  \n",
      "0  And never more so than in Showtimes new series...       Verge  \n",
      "1  AlphaGos victory isnt a defeat for humans  its...       Verge  \n"
     ]
    }
   ],
   "source": [
    "print(df.info())\n",
    "print(df.head(2))"
   ]
  },
  {
   "cell_type": "code",
   "execution_count": 12,
   "id": "f57315cb-9efe-423b-8da2-8b7d413a3197",
   "metadata": {},
   "outputs": [],
   "source": [
    "df.to_csv('cleaned_news_data.csv', index=False, encoding='utf-8')"
   ]
  },
  {
   "cell_type": "code",
   "execution_count": 13,
   "id": "aa92b85d-ec7b-48d3-91b1-c0f1c011de0d",
   "metadata": {},
   "outputs": [],
   "source": [
    "df_clean = pd.read_csv(\"cleaned_news_data.csv\")"
   ]
  },
  {
   "cell_type": "code",
   "execution_count": 15,
   "id": "aea9e291-6654-42d0-be5a-6a576bda8fc3",
   "metadata": {},
   "outputs": [
    {
     "name": "stdout",
     "output_type": "stream",
     "text": [
      "<class 'pandas.core.frame.DataFrame'>\n",
      "RangeIndex: 1584295 entries, 0 to 1584294\n",
      "Data columns (total 4 columns):\n",
      " #   Column       Non-Null Count    Dtype \n",
      "---  ------       --------------    ----- \n",
      " 0   date         1584295 non-null  object\n",
      " 1   title        1584295 non-null  object\n",
      " 2   article      1584123 non-null  object\n",
      " 3   publication  1584295 non-null  object\n",
      "dtypes: object(4)\n",
      "memory usage: 48.3+ MB\n"
     ]
    }
   ],
   "source": [
    "df_clean.info()"
   ]
  },
  {
   "cell_type": "code",
   "execution_count": 16,
   "id": "cb4eaf55-dd4b-4e4e-84b9-2cb8706587bb",
   "metadata": {
    "scrolled": true
   },
   "outputs": [
    {
     "data": {
      "text/html": [
       "<div>\n",
       "<style scoped>\n",
       "    .dataframe tbody tr th:only-of-type {\n",
       "        vertical-align: middle;\n",
       "    }\n",
       "\n",
       "    .dataframe tbody tr th {\n",
       "        vertical-align: top;\n",
       "    }\n",
       "\n",
       "    .dataframe thead th {\n",
       "        text-align: right;\n",
       "    }\n",
       "</style>\n",
       "<table border=\"1\" class=\"dataframe\">\n",
       "  <thead>\n",
       "    <tr style=\"text-align: right;\">\n",
       "      <th></th>\n",
       "      <th>date</th>\n",
       "      <th>title</th>\n",
       "      <th>article</th>\n",
       "      <th>publication</th>\n",
       "    </tr>\n",
       "  </thead>\n",
       "  <tbody>\n",
       "    <tr>\n",
       "      <th>0</th>\n",
       "      <td>2016-12-09 18:31:00</td>\n",
       "      <td>We should take concerns about the health of li...</td>\n",
       "      <td>This post is part of Polyarchy, an independent...</td>\n",
       "      <td>Vox</td>\n",
       "    </tr>\n",
       "    <tr>\n",
       "      <th>1</th>\n",
       "      <td>2016-10-07 21:26:46</td>\n",
       "      <td>Colts GM Ryan Grigson says Andrew Luck's contr...</td>\n",
       "      <td>The Indianapolis Colts made Andrew Luck the hi...</td>\n",
       "      <td>Business Insider</td>\n",
       "    </tr>\n",
       "    <tr>\n",
       "      <th>2</th>\n",
       "      <td>2018-01-26 00:00:00</td>\n",
       "      <td>Trump denies report he ordered Mueller fired</td>\n",
       "      <td>DAVOS, Switzerland (Reuters) - U.S. President ...</td>\n",
       "      <td>Reuters</td>\n",
       "    </tr>\n",
       "    <tr>\n",
       "      <th>3</th>\n",
       "      <td>2019-06-27 00:00:00</td>\n",
       "      <td>France's Sarkozy reveals his 'Passions' but in...</td>\n",
       "      <td>PARIS (Reuters) - Former French president Nico...</td>\n",
       "      <td>Reuters</td>\n",
       "    </tr>\n",
       "    <tr>\n",
       "      <th>4</th>\n",
       "      <td>2016-01-27 00:00:00</td>\n",
       "      <td>Paris Hilton: Woman In Black For Uncle Monty's...</td>\n",
       "      <td>Paris Hilton arrived at LAX Wednesday dressed ...</td>\n",
       "      <td>TMZ</td>\n",
       "    </tr>\n",
       "  </tbody>\n",
       "</table>\n",
       "</div>"
      ],
      "text/plain": [
       "                  date                                              title  \\\n",
       "0  2016-12-09 18:31:00  We should take concerns about the health of li...   \n",
       "1  2016-10-07 21:26:46  Colts GM Ryan Grigson says Andrew Luck's contr...   \n",
       "2  2018-01-26 00:00:00       Trump denies report he ordered Mueller fired   \n",
       "3  2019-06-27 00:00:00  France's Sarkozy reveals his 'Passions' but in...   \n",
       "4  2016-01-27 00:00:00  Paris Hilton: Woman In Black For Uncle Monty's...   \n",
       "\n",
       "                                             article       publication  \n",
       "0  This post is part of Polyarchy, an independent...               Vox  \n",
       "1  The Indianapolis Colts made Andrew Luck the hi...  Business Insider  \n",
       "2  DAVOS, Switzerland (Reuters) - U.S. President ...           Reuters  \n",
       "3  PARIS (Reuters) - Former French president Nico...           Reuters  \n",
       "4  Paris Hilton arrived at LAX Wednesday dressed ...               TMZ  "
      ]
     },
     "execution_count": 16,
     "metadata": {},
     "output_type": "execute_result"
    }
   ],
   "source": [
    "df_clean.head()"
   ]
  }
 ],
 "metadata": {
  "kernelspec": {
   "display_name": "Python 3 (ipykernel)",
   "language": "python",
   "name": "python3"
  },
  "language_info": {
   "codemirror_mode": {
    "name": "ipython",
    "version": 3
   },
   "file_extension": ".py",
   "mimetype": "text/x-python",
   "name": "python",
   "nbconvert_exporter": "python",
   "pygments_lexer": "ipython3",
   "version": "3.12.3"
  }
 },
 "nbformat": 4,
 "nbformat_minor": 5
}
