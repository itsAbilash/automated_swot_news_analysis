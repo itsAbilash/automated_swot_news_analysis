{
 "cells": [
  {
   "cell_type": "code",
   "execution_count": 40,
   "id": "48635a94-4607-4a03-8583-a0a75a82b8d3",
   "metadata": {},
   "outputs": [],
   "source": [
    "import pandas as pd\n",
    "import numpy as np\n",
    "import re\n",
    "from sentence_transformers import SentenceTransformer\n",
    "from sklearn.metrics.pairwise import cosine_similarity\n",
    "import matplotlib.pyplot as plt"
   ]
  },
  {
   "cell_type": "code",
   "execution_count": 12,
   "id": "b4717c6e-06c8-4e3b-a064-3c174d2065fe",
   "metadata": {},
   "outputs": [
    {
     "name": "stderr",
     "output_type": "stream",
     "text": [
      "[nltk_data] Downloading package punkt to C:\\Users\\Sruthi\n",
      "[nltk_data]     Srikanth\\AppData\\Roaming\\nltk_data...\n",
      "[nltk_data]   Package punkt is already up-to-date!\n"
     ]
    },
    {
     "data": {
      "text/plain": [
       "True"
      ]
     },
     "execution_count": 12,
     "metadata": {},
     "output_type": "execute_result"
    }
   ],
   "source": [
    "nltk.download('punkt')"
   ]
  },
  {
   "cell_type": "code",
   "execution_count": 13,
   "id": "798e8905-cc3e-4a0b-a20b-9cef0bde91f4",
   "metadata": {},
   "outputs": [
    {
     "name": "stderr",
     "output_type": "stream",
     "text": [
      "[nltk_data] Downloading package wordnet to C:\\Users\\Sruthi\n",
      "[nltk_data]     Srikanth\\AppData\\Roaming\\nltk_data...\n",
      "[nltk_data]   Package wordnet is already up-to-date!\n"
     ]
    },
    {
     "data": {
      "text/plain": [
       "True"
      ]
     },
     "execution_count": 13,
     "metadata": {},
     "output_type": "execute_result"
    }
   ],
   "source": [
    "nltk.download('wordnet')"
   ]
  },
  {
   "cell_type": "code",
   "execution_count": 14,
   "id": "f66ab0af-d799-4606-b71f-70a4fb0930dd",
   "metadata": {},
   "outputs": [
    {
     "name": "stderr",
     "output_type": "stream",
     "text": [
      "[nltk_data] Downloading package omw-1.4 to C:\\Users\\Sruthi\n",
      "[nltk_data]     Srikanth\\AppData\\Roaming\\nltk_data...\n"
     ]
    },
    {
     "data": {
      "text/plain": [
       "True"
      ]
     },
     "execution_count": 14,
     "metadata": {},
     "output_type": "execute_result"
    }
   ],
   "source": [
    "nltk.download('omw-1.4')"
   ]
  },
  {
   "cell_type": "code",
   "execution_count": 2,
   "id": "51b25565-fb7b-4b56-8c81-44c7ee305174",
   "metadata": {},
   "outputs": [
    {
     "name": "stdout",
     "output_type": "stream",
     "text": [
      "Using device: cuda\n"
     ]
    }
   ],
   "source": [
    "import torch\n",
    "device = torch.device(\"cuda\" if torch.cuda.is_available() else \"cpu\")\n",
    "print(f\"Using device: {device}\")"
   ]
  },
  {
   "cell_type": "code",
   "execution_count": 3,
   "id": "7f3b943c-7c88-45a4-9541-b4e0b0733140",
   "metadata": {},
   "outputs": [],
   "source": [
    "# **1. Load Dataset**\n",
    "df = pd.read_csv('cleaned_news_data.csv')"
   ]
  },
  {
   "cell_type": "code",
   "execution_count": 4,
   "id": "9f1d5e0a-83de-4ca0-a53a-6c4ee2adce36",
   "metadata": {},
   "outputs": [],
   "source": [
    "# Handle missing values\n",
    "df['title'] = df['title'].fillna('')\n",
    "df['content'] = df['content'].fillna('')"
   ]
  },
  {
   "cell_type": "code",
   "execution_count": 41,
   "id": "5b073450-c1c3-4ce6-9632-6973cfcc82c7",
   "metadata": {},
   "outputs": [
    {
     "name": "stderr",
     "output_type": "stream",
     "text": [
      "C:\\Users\\Sruthi Srikanth\\AppData\\Local\\Temp\\ipykernel_12528\\1161952873.py:6: SettingWithCopyWarning: \n",
      "A value is trying to be set on a copy of a slice from a DataFrame.\n",
      "Try using .loc[row_indexer,col_indexer] = value instead\n",
      "\n",
      "See the caveats in the documentation: https://pandas.pydata.org/pandas-docs/stable/user_guide/indexing.html#returning-a-view-versus-a-copy\n",
      "  df['combined_text'] = df.apply(prioritize_title, axis=1)\n"
     ]
    }
   ],
   "source": [
    "# Combine title and content with priority weighting\n",
    "def prioritize_title(row, weight=5):\n",
    "    weighted_title = (row['title'] + '. ') * weight\n",
    "    return weighted_title + row['content']\n",
    "\n",
    "df['combined_text'] = df.apply(prioritize_title, axis=1)"
   ]
  },
  {
   "cell_type": "code",
   "execution_count": 6,
   "id": "284672c4-40bf-4385-b54d-d85b4c4abcf5",
   "metadata": {},
   "outputs": [
    {
     "name": "stderr",
     "output_type": "stream",
     "text": [
      "C:\\Users\\Anaconda\\envs\\deepLearning\\Lib\\site-packages\\huggingface_hub\\file_download.py:797: FutureWarning: `resume_download` is deprecated and will be removed in version 1.0.0. Downloads always resume when possible. If you want to force a new download, use `force_download=True`.\n",
      "  warnings.warn(\n",
      "C:\\Users\\Anaconda\\envs\\deepLearning\\Lib\\site-packages\\transformers\\utils\\generic.py:309: FutureWarning: `torch.utils._pytree._register_pytree_node` is deprecated. Please use `torch.utils._pytree.register_pytree_node` instead.\n",
      "  _torch_pytree._register_pytree_node(\n"
     ]
    }
   ],
   "source": [
    "# **2. Load Model and Prepare SWOT Keywords**\n",
    "model = SentenceTransformer('all-MiniLM-L6-v2')"
   ]
  },
  {
   "cell_type": "code",
   "execution_count": 36,
   "id": "fa9d1dd3-63b4-48e4-b4ed-e715cdc7a11b",
   "metadata": {},
   "outputs": [],
   "source": [
    "# Define SWOT keywords\n",
    "swot_keywords = {\n",
    "    \"Strengths\": [\n",
    "        \"market leader\", \"customer satisfaction\", \"brand loyalty\", \"strong revenue\", \"high profit margin\",\n",
    "        \"unique selling point\", \"competitive advantage\", \"high brand equity\", \"quality products\",\n",
    "        \"positive brand perception\", \"advantage\", \"strong\", \"leader\", \"success\", \"achieved\", \"profit\", \"growth\", \"top\", \"excellent\", \"dominant\", \"innovative\"\n",
    "    ],\n",
    "    \"Weaknesses\": [\n",
    "        \"lawsuit\", \"product recall\", \"negative feedback\", \"decline in sales\", \"loss of market share\",\n",
    "        \"supply chain issues\", \"high operational costs\", \"reduced profitability\", \"brand damage\",\n",
    "        \"scandal\", \"controversy\", \"data breach\", \"security vulnerability\",\"weak\", \"problem\", \"issue\", \"challenge\", \"poor\", \"lack\", \"decline\", \"failure\", \"flaw\", \"disadvantage\", \"loss\"\n",
    "    ],\n",
    "    \"Opportunities\": [\n",
    "        \"growth potential\", \"new market\", \"investment\", \"technological innovation\", \"expansion opportunity\",\n",
    "        \"strategic partnership\", \"emerging markets\", \"increased demand\", \"product diversification\",\n",
    "        \"positive industry trend\", \"new product launch\", \"acquisition\", \"merger\", \"opportunity\", \"growth\", \"potential\", \"market\", \"trend\", \"future\", \"expansion\", \"upside\", \"demand\", \"prospect\"\n",
    "    ],\n",
    "    \"Threats\": [\n",
    "        \"economic downturn\", \"competition\", \"regulation\", \"supply chain issue\", \"currency fluctuation\",\n",
    "        \"market saturation\", \"new entrant\", \"substitute product\", \"changing consumer preferences\",\n",
    "        \"recession\", \"natural disaster\", \"political instability\", \"cyber attack\", \"litigation risk\", \"threat\", \"competition\", \"risk\", \"danger\", \"loss\", \"attack\", \"barrier\", \"downside\", \"obstacle\", \"challenge\", \"limitation\"\n",
    "    ]\n",
    "}"
   ]
  },
  {
   "cell_type": "code",
   "execution_count": 37,
   "id": "33723d72-92dd-40b9-a511-16202a8b1a55",
   "metadata": {},
   "outputs": [
    {
     "name": "stdout",
     "output_type": "stream",
     "text": [
      "Generating embeddings for SWOT keywords...\n"
     ]
    }
   ],
   "source": [
    "# Precompute SWOT embeddings\n",
    "print(\"Generating embeddings for SWOT keywords...\")\n",
    "swot_embeddings = {category: model.encode(words) for category, words in swot_keywords.items()}\n"
   ]
  },
  {
   "cell_type": "code",
   "execution_count": 47,
   "id": "59ec3345-da46-4a66-84e1-aa588d9403de",
   "metadata": {},
   "outputs": [],
   "source": [
    "def tokenize_sentences(content):\n",
    "    \"\"\"\n",
    "    Tokenize content into sentences using punctuation and specific conjunctions\n",
    "    without using lookbehind assertions.\n",
    "    \"\"\"\n",
    "    if not content.strip():\n",
    "        return []\n",
    "    # Match sentence-ending punctuation or specific words and split\n",
    "    sentences = re.split(r'[.!?;]|(?:\\b(?:However|But|In contrast|Thus)\\b)', content)\n",
    "    return [sentence.strip() for sentence in sentences if sentence.strip()]"
   ]
  },
  {
   "cell_type": "code",
   "execution_count": 16,
   "id": "cfe97297-5f78-453c-aa1d-65c3a3a044ca",
   "metadata": {},
   "outputs": [],
   "source": [
    "import spacy\n",
    "\n",
    "# Load spaCy model\n",
    "nlp = spacy.load(\"en_core_web_sm\")\n",
    "\n",
    "def tokenize_sentences_spacy(content):\n",
    "    doc = nlp(content)\n",
    "    return [sent.text for sent in doc.sents]"
   ]
  },
  {
   "cell_type": "code",
   "execution_count": 21,
   "id": "9e491680-b56a-4690-8f64-8aec8dd8c366",
   "metadata": {},
   "outputs": [],
   "source": [
    "import re\n",
    "\n",
    "def tokenize_sentences(content):\n",
    "    \"\"\"\n",
    "    Tokenize content into sentences using a simple regex-based approach.\n",
    "    \"\"\"\n",
    "    if not content.strip():  # Check for empty content\n",
    "        return []\n",
    "    # Split by sentence-ending punctuation and remove empty strings\n",
    "    sentences = re.split(r'[.!?]', content)\n",
    "    return [sentence.strip() for sentence in sentences if sentence.strip()]\n",
    "\n",
    "def batch_categorize(content, combined_text):\n",
    "    # Tokenize sentences using the new tokenize_sentences function\n",
    "    sentences = tokenize_sentences(content)\n",
    "    if not sentences:  # Skip processing if no sentences are found\n",
    "        return [\"Null\"]\n",
    "\n",
    "    # Generate embeddings for sentences\n",
    "    sentence_embeddings = model.encode(sentences, batch_size=16, show_progress_bar=False)\n",
    "    if len(sentence_embeddings) == 0:  # Ensure embeddings are valid\n",
    "        return [\"Null\"]\n",
    "\n",
    "    # Generate embedding for combined text\n",
    "    combined_embedding = model.encode(combined_text, show_progress_bar=False)\n",
    "\n",
    "    # Store categories\n",
    "    sentence_categories = set()\n",
    "    \n",
    "    # Batch process SWOT similarity for sentences\n",
    "    for category, embeddings in swot_embeddings.items():\n",
    "        sim_scores = cosine_similarity(sentence_embeddings, embeddings).max(axis=1)\n",
    "        if np.any(sim_scores > 0.3):  # Threshold for sentence similarity\n",
    "            sentence_categories.add(category)\n",
    "    \n",
    "    # Process combined text for overall categorization\n",
    "    for category, embeddings in swot_embeddings.items():\n",
    "        sim_scores = cosine_similarity([combined_embedding], embeddings).flatten()\n",
    "        if max(sim_scores) > 0.4:  # Threshold for combined text\n",
    "            sentence_categories.add(category)\n",
    "    \n",
    "    # Add Null category if no matches\n",
    "    if not sentence_categories:\n",
    "        sentence_categories.add(\"Null\")\n",
    "    \n",
    "    return list(sentence_categories)"
   ]
  },
  {
   "cell_type": "code",
   "execution_count": 22,
   "id": "5b8a12e5-c9ab-4a03-96b9-f5700c55d344",
   "metadata": {},
   "outputs": [
    {
     "name": "stdout",
     "output_type": "stream",
     "text": [
      "Categorizing articles...\n"
     ]
    }
   ],
   "source": [
    "# Apply categorization in a vectorized manner\n",
    "print(\"Categorizing articles...\")\n",
    "df['categories'] = df.apply(lambda row: batch_categorize(row['content'], row['combined_text']), axis=1)"
   ]
  },
  {
   "cell_type": "code",
   "execution_count": 23,
   "id": "362fb57c-5896-4b28-a9fb-5986d3a7a9b2",
   "metadata": {},
   "outputs": [
    {
     "name": "stdout",
     "output_type": "stream",
     "text": [
      "Counting categories...\n",
      "\n",
      "Category counts:\n",
      "Null             143291\n",
      "Weaknesses        18866\n",
      "Threats           14519\n",
      "Opportunities      9942\n",
      "Strengths          8744\n",
      "Name: count, dtype: int64\n"
     ]
    }
   ],
   "source": [
    "# **4. Count Categories**\n",
    "print(\"Counting categories...\")\n",
    "all_categories = [category for categories in df['categories'] for category in categories]\n",
    "category_counts = pd.Series(all_categories).value_counts()\n",
    "\n",
    "print(\"\\nCategory counts:\")\n",
    "print(category_counts)"
   ]
  },
  {
   "cell_type": "code",
   "execution_count": 24,
   "id": "2ea423b7-133a-4b98-bc90-fed3cc6918e6",
   "metadata": {},
   "outputs": [],
   "source": [
    "# **5. Save Results**\n",
    "df.to_csv('optimized_categorized_dataset.csv', index=False)"
   ]
  },
  {
   "cell_type": "code",
   "execution_count": 25,
   "id": "23cac482-76bd-4e70-8037-b2a5015fb741",
   "metadata": {},
   "outputs": [
    {
     "data": {
      "image/png": "[encoded data removed]",
      "text/plain": [
       "<Figure size 640x480 with 1 Axes>"
      ]
     },
     "metadata": {},
     "output_type": "display_data"
    }
   ],
   "source": [
    "# **6. Visualize the Results**\n",
    "import matplotlib.pyplot as plt\n",
    "plt.bar(category_counts.index, category_counts.values, color='skyblue')\n",
    "plt.title('SWOT Category Distribution')\n",
    "plt.xlabel('Categories')\n",
    "plt.ylabel('Count')\n",
    "plt.show()"
   ]
  },
  {
   "cell_type": "code",
   "execution_count": 48,
   "id": "8e697850-00e9-4367-80a5-309fda3148c4",
   "metadata": {},
   "outputs": [],
   "source": [
    "# **4. Recategorization Logic for Null Entries**\n",
    "def recategorize_nulls(df, model, swot_embeddings, sentence_threshold=0.15, combined_threshold=0.25):\n",
    "    def process_null_row(content, combined_text):\n",
    "        # Tokenize sentences\n",
    "        sentences = tokenize_sentences(content)\n",
    "        if not sentences:\n",
    "            return [\"Null\"]\n",
    "\n",
    "        # Generate embeddings for sentences\n",
    "        sentence_embeddings = model.encode(sentences, batch_size=16, show_progress_bar=False)\n",
    "        if len(sentence_embeddings) == 0:\n",
    "            return [\"Null\"]\n",
    "\n",
    "        # Generate embedding for combined text\n",
    "        combined_embedding = model.encode(combined_text, show_progress_bar=False)\n",
    "\n",
    "        # Store categories\n",
    "        sentence_categories = set()\n",
    "        \n",
    "        # Batch process SWOT similarity for sentences\n",
    "        for category, embeddings in swot_embeddings.items():\n",
    "            sim_scores = cosine_similarity(sentence_embeddings, embeddings).max(axis=1)\n",
    "            if np.any(sim_scores > sentence_threshold):  # Lower threshold for sentences\n",
    "                sentence_categories.add(category)\n",
    "        \n",
    "        # Process combined text for overall categorization\n",
    "        for category, embeddings in swot_embeddings.items():\n",
    "            sim_scores = cosine_similarity([combined_embedding], embeddings).flatten()\n",
    "            if max(sim_scores) > combined_threshold:  # Lower threshold for combined text\n",
    "                sentence_categories.add(category)\n",
    "        \n",
    "        # Add Null category if no matches\n",
    "        if not sentence_categories:\n",
    "            sentence_categories.add(\"Null\")\n",
    "        \n",
    "        return list(sentence_categories)\n",
    "\n",
    "    # Filter for 'Null' rows\n",
    "    null_rows = df[df['categories'].apply(lambda x: 'Null' in x)].copy()\n",
    "\n",
    "    # Reprocess each 'Null' entry\n",
    "    print(f\"Reprocessing {len(null_rows)} 'Null' entries...\")\n",
    "    null_rows['categories'] = null_rows.apply(\n",
    "        lambda row: process_null_row(row['content'], row['combined_text']),\n",
    "        axis=1\n",
    "    )\n",
    "\n",
    "    # Update original DataFrame\n",
    "    df.update(null_rows)\n",
    "    return df"
   ]
  },
  {
   "cell_type": "code",
   "execution_count": 49,
   "id": "3c536d68-ba7d-46b1-a7d3-09b944572851",
   "metadata": {},
   "outputs": [
    {
     "name": "stdout",
     "output_type": "stream",
     "text": [
      "Reprocessing 140723 'Null' entries...\n"
     ]
    }
   ],
   "source": [
    "# Reprocess null entries\n",
    "df = recategorize_nulls(df, model, swot_embeddings)"
   ]
  },
  {
   "cell_type": "code",
   "execution_count": 38,
   "id": "a8577e9d-6ac9-41b0-8b1f-f304f91ba22e",
   "metadata": {},
   "outputs": [],
   "source": [
    "# Filter out rows with very short content\n",
    "df = df[df['content'].str.len() > 100]  # Adjust the length threshold as needed"
   ]
  },
  {
   "cell_type": "code",
   "execution_count": 39,
   "id": "83a743e2-b4ca-45e4-b016-6279dad93154",
   "metadata": {},
   "outputs": [
    {
     "name": "stderr",
     "output_type": "stream",
     "text": [
      "C:\\Users\\Sruthi Srikanth\\AppData\\Local\\Temp\\ipykernel_12528\\18068560.py:2: SettingWithCopyWarning: \n",
      "A value is trying to be set on a copy of a slice from a DataFrame.\n",
      "Try using .loc[row_indexer,col_indexer] = value instead\n",
      "\n",
      "See the caveats in the documentation: https://pandas.pydata.org/pandas-docs/stable/user_guide/indexing.html#returning-a-view-versus-a-copy\n",
      "  df['content'] = df['content'].apply(lambda x: \" \".join([line for line in x.splitlines() if line.lower() not in boilerplate_phrases]))\n"
     ]
    }
   ],
   "source": [
    "boilerplate_phrases = [\"no information available\", \"click here to read more\"]\n",
    "df['content'] = df['content'].apply(lambda x: \" \".join([line for line in x.splitlines() if line.lower() not in boilerplate_phrases]))"
   ]
  },
  {
   "cell_type": "code",
   "execution_count": 52,
   "id": "dad95b86-b1c0-4c2f-aa09-2a09a13ef44d",
   "metadata": {},
   "outputs": [],
   "source": [
    "df['categories'] = df.apply(prioritize_combined_text, axis=1)"
   ]
  },
  {
   "cell_type": "code",
   "execution_count": 53,
   "id": "b67883b5-63f7-40a7-823b-e63f0c75ffaf",
   "metadata": {},
   "outputs": [
    {
     "name": "stdout",
     "output_type": "stream",
     "text": [
      "\n",
      "Updated Category counts:\n",
      "Weaknesses       143347\n",
      "Threats          135594\n",
      "Opportunities    101826\n",
      "Strengths        100078\n",
      "Null               4214\n",
      "Name: count, dtype: int64\n"
     ]
    }
   ],
   "source": [
    "# **6. Analyze Results**\n",
    "# Count category distribution\n",
    "all_categories = [category for categories in df['categories'] for category in categories]\n",
    "category_counts = pd.Series(all_categories).value_counts()\n",
    "\n",
    "print(\"\\nUpdated Category counts:\")\n",
    "print(category_counts)"
   ]
  },
  {
   "cell_type": "code",
   "execution_count": 55,
   "id": "991fc3a5-a262-45b4-8148-4678e210dfc7",
   "metadata": {},
   "outputs": [],
   "source": [
    "# **7. Save Results**\n",
    "df.to_csv('recategorized_dataset2.csv', index=False)"
   ]
  },
  {
   "cell_type": "code",
   "execution_count": 32,
   "id": "27d9c1e9-b934-48ba-bbc0-4b8225d3e36e",
   "metadata": {},
   "outputs": [],
   "source": [
    "null_samples = df[df['categories'].apply(lambda x: \"Null\" in x)].sample(10)"
   ]
  },
  {
   "cell_type": "code",
   "execution_count": 57,
   "id": "5a35870d-9a56-4c7c-b3a9-fe6b40bbebfe",
   "metadata": {},
   "outputs": [
    {
     "name": "stdout",
     "output_type": "stream",
     "text": [
      "categories           Null  Opportunities  Strengths  Threats  Weaknesses\n",
      "publication                                                             \n",
      "Atlantic               43           5179       4937     6340        6380\n",
      "Breitbart             522          10653      12094    17795       19578\n",
      "Business Insider       63           5028       4516     4926        5409\n",
      "Buzzfeed News         162           6114       5764     8076        9126\n",
      "CNN                   521           5167       5216     8740        9164\n",
      "Fox News              111           1882       1840     3427        3796\n",
      "Guardian              243           4971       4983     6914        7186\n",
      "Los Angeles Times     431           5502       4865     6643        6956\n",
      "NPR                   375           7407       7036     9600        9738\n",
      "National Review        42           3572       3768     5401        5089\n",
      "New Inquiry            53           2199       2257     2534        2425\n",
      "New York Post         500           9459       9331    11599       13760\n",
      "New York Times        761          19728      19540    24006       24697\n",
      "Reuters               137           6452       5393     7609        7656\n",
      "Talking Points Memo    76           1240       1483     1968        2148\n",
      "Verge                  15            978        767      794         869\n",
      "Washington Post       159           6295       6288     9222        9370\n"
     ]
    },
    {
     "data": {
      "image/png": "[encoded data removed]",
      "text/plain": [
       "<Figure size 1000x600 with 1 Axes>"
      ]
     },
     "metadata": {},
     "output_type": "display_data"
    }
   ],
   "source": [
    "publication_swot = (\n",
    "    df.explode('categories')\n",
    "    .groupby(['publication', 'categories'])\n",
    "    .size()\n",
    "    .unstack(fill_value=0)\n",
    ")\n",
    "\n",
    "print(publication_swot)\n",
    "publication_swot.plot(kind='bar', stacked=True, figsize=(10, 6), colormap=\"Pastel1\")\n",
    "plt.title(\"SWOT Category Distribution by Publication\")\n",
    "plt.ylabel(\"Count\")\n",
    "plt.xlabel(\"Publication\")\n",
    "plt.show()"
   ]
  },
  {
   "cell_type": "code",
   "execution_count": 58,
   "id": "be6710ee-2d70-4998-91dc-905568911616",
   "metadata": {},
   "outputs": [
    {
     "name": "stdout",
     "output_type": "stream",
     "text": [
      "categories  Null  Opportunities  Strengths  Threats  Weaknesses\n",
      "company                                                        \n",
      "04             0              1          1        1           1\n",
      "1 A            0              4          3        4           4\n",
      "1 C            0              0          2        2           0\n",
      "1 D            0              2          3        4           3\n",
      "1 F            0              1          1        1           1\n",
      "...          ...            ...        ...      ...         ...\n",
      "âœI            0              0          0        1           1\n",
      "âœM            0              1          1        1           1\n",
      "âœS            0              0          0        1           1\n",
      "âœT            0              2          2        2           2\n",
      "Чит            0              0          0        1           0\n",
      "\n",
      "[4240 rows x 5 columns]\n"
     ]
    }
   ],
   "source": [
    "df['company'] = df['content'].str.extract(r'(CompanyName|BrandName|...)')  # Adjust regex for specific companies\n",
    "\n",
    "company_swot = (\n",
    "    df.explode('categories')\n",
    "    .groupby(['company', 'categories'])\n",
    "    .size()\n",
    "    .unstack(fill_value=0)\n",
    ")\n",
    "\n",
    "print(company_swot)"
   ]
  },
  {
   "cell_type": "code",
   "execution_count": null,
   "id": "9297e41f-15fa-4cee-bcc0-c829318c1745",
   "metadata": {},
   "outputs": [],
   "source": []
  }
 ],
 "metadata": {
  "kernelspec": {
   "display_name": "Python 3 (ipykernel)",
   "language": "python",
   "name": "python3"
  },
  "language_info": {
   "codemirror_mode": {
    "name": "ipython",
    "version": 3
   },
   "file_extension": ".py",
   "mimetype": "text/x-python",
   "name": "python",
   "nbconvert_exporter": "python",
   "pygments_lexer": "ipython3",
   "version": "3.12.3"
  }
 },
 "nbformat": 4,
 "nbformat_minor": 5
}
